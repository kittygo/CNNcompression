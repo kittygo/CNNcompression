{
 "cells": [
  {
   "cell_type": "code",
   "execution_count": 4,
   "metadata": {},
   "outputs": [],
   "source": [
    "import tensorflow as tf\n",
    "from tensorflow.keras.datasets import mnist"
   ]
  },
  {
   "cell_type": "code",
   "execution_count": 5,
   "metadata": {},
   "outputs": [
    {
     "name": "stdout",
     "output_type": "stream",
     "text": [
      "Extracting /tmp/data/train-images-idx3-ubyte.gz\n",
      "Extracting /tmp/data/train-labels-idx1-ubyte.gz\n",
      "Extracting /tmp/data/t10k-images-idx3-ubyte.gz\n",
      "Extracting /tmp/data/t10k-labels-idx1-ubyte.gz\n"
     ]
    }
   ],
   "source": [
    "# Basic tf setting\n",
    "tf.set_random_seed(2016)\n",
    "sess = tf.Session()\n",
    "\n",
    "# Get data\n",
    "mnist = input_data.read_data_sets(\"/tmp/data/\", one_hot=True)"
   ]
  },
  {
   "cell_type": "code",
   "execution_count": 6,
   "metadata": {},
   "outputs": [],
   "source": [
    "a = mnist.train.images"
   ]
  },
  {
   "cell_type": "code",
   "execution_count": 7,
   "metadata": {},
   "outputs": [],
   "source": [
    "import numpy as np"
   ]
  },
  {
   "cell_type": "code",
   "execution_count": 8,
   "metadata": {},
   "outputs": [],
   "source": [
    "train_x = mnist.train.images\n",
    "train_y = mnist.train.labels"
   ]
  },
  {
   "cell_type": "code",
   "execution_count": 9,
   "metadata": {},
   "outputs": [],
   "source": [
    "test_x = mnist.test.images\n",
    "test_y = mnist.test.labels"
   ]
  },
  {
   "cell_type": "code",
   "execution_count": 12,
   "metadata": {},
   "outputs": [],
   "source": [
    "C = 1\n",
    "\n",
    "class Gen_ELM2(object):\n",
    "    def __init__(self,sess,batch_size,input_len,hidden_lens,output_len):\n",
    "        \n",
    "        self.sess = sess \n",
    "        self.batch_size = batch_size\n",
    "        self.input_len = input_len\n",
    "        self.hidden_lens = hidden_lens\n",
    "        self.output_len = output_len\n",
    "        \n",
    "        #Training variables\n",
    "        self.x = tf.placeholder(tf.float32, [self.batch_size, self.input_len])\n",
    "        self.t = tf.placeholder(tf.float32, [self.batch_size, self.output_len])\n",
    "        \n",
    "        #Testing variables \n",
    "        self.x_test = tf.placeholder(tf.float32,[None,self.input_len])\n",
    "        self.y_test = tf.placeholder(tf.float32,[None,self.output_len])\n",
    "        \n",
    "        \n",
    "        #Weight , bias and beta Variable \n",
    "        self.w = []\n",
    "        self.b = []\n",
    "        \n",
    "        self.w.append(tf.Variable(tf.random_normal([self.input_len, self.hidden_lens[0]]),trainable=False, dtype=tf.float32))\n",
    "        self.b.append(tf.Variable(tf.random_normal([self.hidden_lens[0]]),trainable=False, dtype=tf.float32))\n",
    "        \n",
    "        for i in range(0,len(self.hidden_lens)-1) :\n",
    "            self.w.append(tf.Variable(tf.random_normal([self.hidden_lens[i], self.hidden_lens[i+1]]),trainable=False, dtype=tf.float32))\n",
    "            self.b.append(tf.Variable(tf.random_normal([self.hidden_lens[i+1]]),trainable=False, dtype=tf.float32))\n",
    "        \n",
    "        self.beta = tf.Variable(tf.zeros([self.hidden_lens[-1], self.output_len]),trainable=False, dtype=tf.float32)\n",
    "        \n",
    "        self.var_list = []\n",
    "        for i in range(0,len(self.w)):\n",
    "            self.var_list.append(self.w[i])\n",
    "            self.var_list.append(self.b[i])\n",
    "        self.var_list.append(self.beta)\n",
    "        \n",
    "        #Training hidden outputs\n",
    "        self.h = []\n",
    "        self.h_t = []\n",
    "        \n",
    "        self.h.append(tf.sigmoid(tf.matmul(self.x, self.w[0]) + self.b[0]))\n",
    "        self.h_t.append(tf.transpose(self.h[0]))\n",
    "        \n",
    "        for i in range(1,len(self.w)):\n",
    "            self.h.append(tf.sigmoid(tf.matmul(self.h[i-1], self.w[i]) + self.b[i]))\n",
    "            self.h_t.append(tf.transpose(self.h[i]))\n",
    "        \n",
    "        \n",
    "        #Testing hidden outputs\n",
    "        \n",
    "        self.h_test = []\n",
    "        self.h_test_t = []\n",
    "        \n",
    "        self.h_test.append(tf.sigmoid(tf.matmul(self.x_test, self.w[0]) + self.b[0]))\n",
    "        self.h_test_t.append(tf.transpose(self.h_test[0]))\n",
    "        \n",
    "        for i in range(1,len(self.w)):\n",
    "            self.h_test.append(tf.sigmoid(tf.matmul(self.h_test[i-1], self.w[i]) + self.b[i]))\n",
    "            self.h_test_t.append(tf.transpose(self.h_test[i]))\n",
    "        \n",
    "        \n",
    "        #Finding beta\n",
    "        \n",
    "        if self.input_len < self.hidden_lens[-1]:  # D < L\n",
    "            identity = tf.constant(np.identity(self.hidden_lens[-1]), dtype=tf.float32)\n",
    "            self.beta_a = tf.matmul(tf.matmul(tf.matrix_inverse(tf.matmul(self.h_t[-1], self.h[-1]) + identity/C),self.h_t[-1]), self.t)\n",
    "            # beta_a = (H_T*H + I/C)^(-1)*H_T*T\n",
    "        else:\n",
    "            identity = tf.constant(np.identity(self.batch_size), dtype=tf.float32)\n",
    "            self.beta_a = tf.matmul(tf.matmul(self.h_t[-1],tf.matrix_inverse(tf.matmul(self.h[-1], self.h_t[-1])+identity/C)), self.t)\n",
    "            # beta_a = H_T*(H*H_T + I/C)^(-1)*T\n",
    "        \n",
    "        \n",
    "        self.assign_beta = self.beta.assign(self.beta_a)\n",
    "        self.out = tf.sigmoid(tf.matmul(self.h[-1], self.beta))\n",
    "        self.out_test = tf.sigmoid(tf.matmul(self.h_test[-1], self.beta))\n",
    "        \n",
    "        self.cost = tf.reduce_mean(tf.nn.softmax_cross_entropy_with_logits_v2(logits = self.out, labels=self.t))\n",
    "\n",
    "        self._init = False\n",
    "        self._feed = False\n",
    "\n",
    "        # for the mnist test\n",
    "        self.correct_prediction = tf.equal(tf.argmax(self.out_test,1), tf.argmax(self.y_test,1))\n",
    "        self.accuracy = tf.reduce_mean(tf.cast(self.correct_prediction, tf.float32))\n",
    "\n",
    "    def feed(self, x, t):\n",
    "        \n",
    "        if not self._init : self.init()\n",
    "        self.sess.run(self.assign_beta, {self.x:x, self.t:t})\n",
    "        self._feed = True\n",
    "\n",
    "    def init(self):\n",
    "        \n",
    "        self.sess.run(tf.initialize_variables(self.var_list))\n",
    "        self._init = True\n",
    "\n",
    "    def test(self, x, t=None):\n",
    "        \n",
    "        if not self._feed : exit(\"Not feed-forward trained\")\n",
    "        \n",
    "        if t is not None :\n",
    "            print(\"Accuracy: {:.9f}\".format(self.sess.run(self.accuracy, {self.x_test:x, self.y_test:t})))\n",
    "        else :\n",
    "            return self.sess.run(self.out_test, {self.x_test:x})"
   ]
  },
  {
   "cell_type": "code",
   "execution_count": 13,
   "metadata": {},
   "outputs": [
    {
     "name": "stdout",
     "output_type": "stream",
     "text": [
      "batch_size : 5000\n",
      "hidden_num : [125]\n",
      "Accuracy: 0.812799990\n"
     ]
    }
   ],
   "source": [
    "batch_size = 5000\n",
    "hidden_num = [125]\n",
    "print(\"batch_size : {}\".format(batch_size))\n",
    "print(\"hidden_num : {}\".format(hidden_num))\n",
    "elm = Gen_ELM2(sess, batch_size, 784, hidden_num, 10)\n",
    "\n",
    "# one-step feed-forward training\n",
    "train_x, train_y = mnist.train.next_batch(batch_size)\n",
    "elm.feed(train_x, train_y)\n",
    "\n",
    "# testing\n",
    "elm.test(mnist.test.images, mnist.test.labels)\n",
    "\n"
   ]
  },
  {
   "cell_type": "code",
   "execution_count": null,
   "metadata": {},
   "outputs": [],
   "source": []
  }
 ],
 "metadata": {
  "kernelspec": {
   "display_name": "Python 3",
   "language": "python",
   "name": "python3"
  },
  "language_info": {
   "codemirror_mode": {
    "name": "ipython",
    "version": 3
   },
   "file_extension": ".py",
   "mimetype": "text/x-python",
   "name": "python",
   "nbconvert_exporter": "python",
   "pygments_lexer": "ipython3",
   "version": "3.6.8"
  }
 },
 "nbformat": 4,
 "nbformat_minor": 2
}
