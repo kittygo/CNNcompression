{
 "cells": [
  {
   "cell_type": "code",
   "execution_count": 1,
   "metadata": {},
   "outputs": [
    {
     "name": "stdout",
     "output_type": "stream",
     "text": [
      "[name: \"/device:CPU:0\"\n",
      "device_type: \"CPU\"\n",
      "memory_limit: 268435456\n",
      "locality {\n",
      "}\n",
      "incarnation: 13757923829998547525\n",
      ", name: \"/device:XLA_CPU:0\"\n",
      "device_type: \"XLA_CPU\"\n",
      "memory_limit: 17179869184\n",
      "locality {\n",
      "}\n",
      "incarnation: 5659277566473590007\n",
      "physical_device_desc: \"device: XLA_CPU device\"\n",
      ", name: \"/device:XLA_GPU:0\"\n",
      "device_type: \"XLA_GPU\"\n",
      "memory_limit: 17179869184\n",
      "locality {\n",
      "}\n",
      "incarnation: 12016884587425388299\n",
      "physical_device_desc: \"device: XLA_GPU device\"\n",
      ", name: \"/device:GPU:0\"\n",
      "device_type: \"GPU\"\n",
      "memory_limit: 1528168448\n",
      "locality {\n",
      "  bus_id: 1\n",
      "  links {\n",
      "  }\n",
      "}\n",
      "incarnation: 7375811577566293398\n",
      "physical_device_desc: \"device: 0, name: GeForce 940MX, pci bus id: 0000:01:00.0, compute capability: 5.0\"\n",
      "]\n"
     ]
    }
   ],
   "source": [
    "# check if GPU is available\n",
    "from tensorflow.python.client import device_lib\n",
    "print(device_lib.list_local_devices())"
   ]
  },
  {
   "cell_type": "code",
   "execution_count": 2,
   "metadata": {},
   "outputs": [
    {
     "name": "stderr",
     "output_type": "stream",
     "text": [
      "Using TensorFlow backend.\n"
     ]
    },
    {
     "name": "stdout",
     "output_type": "stream",
     "text": [
      "2.2.4\n"
     ]
    }
   ],
   "source": [
    "import keras\n",
    "from keras.preprocessing.image import ImageDataGenerator\n",
    "from keras.models import Sequential, Model, clone_model\n",
    "from keras.layers import Dense, Activation, Input, Lambda, Conv2D, MaxPooling2D, Flatten, Dropout\n",
    "from keras.layers.normalization import BatchNormalization\n",
    "from keras import backend as K\n",
    "from keras.engine.topology import Layer\n",
    "from keras.datasets import cifar10\n",
    "from keras.utils import np_utils\n",
    "print(keras.__version__)\n",
    "\n",
    "import numpy as np\n",
    "import matplotlib.pyplot as plt\n",
    "\n",
    "import VBMF"
   ]
  },
  {
   "cell_type": "code",
   "execution_count": 3,
   "metadata": {},
   "outputs": [
    {
     "name": "stderr",
     "output_type": "stream",
     "text": [
      "Using numpy backend.\n"
     ]
    }
   ],
   "source": [
    "import tensorly as tl\n",
    "from tensorly.decomposition import partial_tucker \n",
    "# tl.set_backend('numpy')"
   ]
  },
  {
   "cell_type": "code",
   "execution_count": 4,
   "metadata": {},
   "outputs": [],
   "source": [
    "def get_model():\n",
    "    batch_norm_alpha=0.9\n",
    "    batch_norm_eps=1e-4\n",
    "\n",
    "    model=Sequential()\n",
    "\n",
    "    model.add(Conv2D(filters=64, kernel_size=3, strides=(1, 1), padding='valid',input_shape=[32,32,3]))\n",
    "    model.add(Activation('relu'))\n",
    "    model.add(BatchNormalization(axis=-1, momentum=batch_norm_alpha, epsilon=batch_norm_eps))\n",
    "    model.add(Conv2D(filters=64, kernel_size=3, strides=(1, 1), padding='valid'))\n",
    "    model.add(Activation('relu'))\n",
    "    model.add(BatchNormalization(axis=-1, momentum=batch_norm_alpha, epsilon=batch_norm_eps))\n",
    "    model.add(MaxPooling2D(pool_size=(2, 2),strides=(2,2)))\n",
    "\n",
    "    model.add(Conv2D(filters=128, kernel_size=3, strides=(1, 1), padding='valid'))\n",
    "    model.add(Activation('relu'))\n",
    "    model.add(BatchNormalization(axis=-1, momentum=batch_norm_alpha, epsilon=batch_norm_eps))\n",
    "    model.add(Conv2D(filters=128, kernel_size=3, strides=(1, 1), padding='valid'))\n",
    "    model.add(Activation('relu'))\n",
    "    model.add(BatchNormalization(axis=-1, momentum=batch_norm_alpha, epsilon=batch_norm_eps))\n",
    "    model.add(MaxPooling2D(pool_size=(2, 2),strides=(2,2)))\n",
    "\n",
    "    model.add(Conv2D(filters=256, kernel_size=3, strides=(1, 1), padding='valid'))\n",
    "    model.add(Activation('relu'))\n",
    "    model.add(BatchNormalization(axis=-1, momentum=batch_norm_alpha, epsilon=batch_norm_eps))\n",
    "    model.add(Conv2D(filters=256, kernel_size=3, strides=(1, 1), padding='valid'))\n",
    "    model.add(Activation('relu'))\n",
    "    model.add(BatchNormalization(axis=-1, momentum=batch_norm_alpha, epsilon=batch_norm_eps))\n",
    "    #model.add(MaxPooling2D(pool_size=(2, 2),strides=(2,2))) <- comment out\n",
    "\n",
    "    model.add(Flatten())\n",
    "\n",
    "    model.add(Dense(512))\n",
    "    model.add(Activation('relu'))\n",
    "    model.add(BatchNormalization(axis=-1, momentum=batch_norm_alpha, epsilon=batch_norm_eps))\n",
    "    model.add(Dense(512))\n",
    "    model.add(Activation('relu'))\n",
    "    model.add(BatchNormalization(axis=-1, momentum=batch_norm_alpha, epsilon=batch_norm_eps))\n",
    "    model.add(Dense(10))\n",
    "    model.add(Activation('softmax'))\n",
    "\n",
    "    return model"
   ]
  },
  {
   "cell_type": "code",
   "execution_count": 5,
   "metadata": {},
   "outputs": [
    {
     "name": "stdout",
     "output_type": "stream",
     "text": [
      "X_train shape: (50000, 32, 32, 3)\n",
      "50000 train samples\n",
      "10000 test samples\n",
      "[3.7476321071624756, 0.2355]\n"
     ]
    }
   ],
   "source": [
    "# get cifar dataset\n",
    "(X_train, y_train), (X_test, y_test) = cifar10.load_data()\n",
    "\n",
    "# pre-process data\n",
    "X_train=X_train.astype(np.float32)\n",
    "X_test=X_test.astype(np.float32)\n",
    "Y_train = np_utils.to_categorical(y_train, 10)\n",
    "Y_test = np_utils.to_categorical(y_test, 10)\n",
    "X_train /= 255\n",
    "X_test /= 255\n",
    "X_train=2*X_train-1  \n",
    "X_test=2*X_test-1\n",
    "\n",
    "\n",
    "print('X_train shape:', X_train.shape)\n",
    "print(X_train.shape[0], 'train samples')\n",
    "print(X_test.shape[0], 'test samples')\n",
    "\n",
    "# set hyper-params\n",
    "batch_size=32\n",
    "lr=0.0001\n",
    "Training=True\n",
    "Compressing=False\n",
    "\n",
    "datagen = ImageDataGenerator(\n",
    "    width_shift_range=0.15,    # randomly shift images horizontally (fraction of total width)\n",
    "    height_shift_range=0.15,   # randomly shift images vertically (fraction of total height)\n",
    "    horizontal_flip=True)      # randomly flip images\n",
    "\n",
    "model=get_model()\n",
    "weights_path='keras_cifar10_trained_model.h5'\n",
    "model.load_weights(weights_path)\n",
    "opt = keras.optimizers.Adam(lr=0.001,decay=1e-6)\n",
    "model.compile(loss='sparse_categorical_crossentropy',optimizer=opt,metrics=['accuracy'])\n",
    "\n",
    "#make sure weights are loaded correctly:\n",
    "print(model.evaluate(X_test,y_test,verbose=0))"
   ]
  },
  {
   "cell_type": "code",
   "execution_count": 6,
   "metadata": {},
   "outputs": [],
   "source": [
    "def convTuckerDecomp(W, ranks):\n",
    "    \"\"\" Apply tucker decomposition on 4-way tensor \"\"\"\n",
    "    W = tl.tensor(W)\n",
    "    core, [I, O] = partial_tucker(W, modes=[2,3], ranks=ranks, init='svd')\n",
    "    core = tl.to_numpy(core).astype(np.float32)\n",
    "    I = np.reshape(I,[1,1]+list(I.shape)).astype(np.float32)      # reshape I to 1x1xcxR1\n",
    "    O = np.reshape(O.T,[1,1]+list(O.T.shape)).astype(np.float32)  # reshape O to 1x1xR2x64\n",
    "    return I, core, O"
   ]
  },
  {
   "cell_type": "code",
   "execution_count": 8,
   "metadata": {},
   "outputs": [
    {
     "name": "stdout",
     "output_type": "stream",
     "text": [
      "i: 0\n",
      "i: 1\n",
      "i: 2\n",
      "i: 3\n",
      "i: 4\n",
      "i: 5\n",
      "i: 6\n",
      "i: 7\n",
      "i: 8\n",
      "i: 9\n",
      "i: 10\n",
      "i: 11\n",
      "i: 12\n",
      "i: 13\n",
      "i: 14\n",
      "i: 15\n",
      "i: 16\n",
      "i: 17\n",
      "i: 18\n",
      "i: 19\n",
      "i: 20\n",
      "i: 21\n",
      "i: 22\n",
      "i: 23\n",
      "i: 24\n",
      "i: 25\n",
      "i: 26\n",
      "i: 27\n",
      "i: 28\n",
      "i: 29\n",
      "i: 30\n",
      "i: 31\n",
      "i: 32\n",
      "i: 33\n",
      "i: 34\n",
      "i: 35\n",
      "i: 36\n",
      "i: 37\n",
      "i: 38\n",
      "i: 39\n",
      "i: 40\n",
      "i: 41\n",
      "i: 42\n",
      "i: 43\n",
      "i: 44\n",
      "i: 45\n",
      "i: 46\n",
      "i: 47\n",
      "i: 48\n",
      "i: 49\n",
      "i: 50\n",
      "i: 51\n",
      "i: 52\n",
      "i: 53\n",
      "i: 54\n",
      "i: 55\n",
      "i: 56\n",
      "i: 57\n",
      "i: 58\n",
      "i: 59\n",
      "i: 60\n",
      "i: 61\n",
      "i: 62\n",
      "i: 63\n"
     ]
    }
   ],
   "source": [
    "errR1 = np.zeros(64)\n",
    "W = model.layers[3].get_weights()[0]   # 2nd conv layer\n",
    "R1_range = np.arange(1,65)\n",
    "for i,R1 in enumerate(R1_range):\n",
    "    print(\"i: \"+str(i))\n",
    "    ranks = [R1, 64]\n",
    "    I, core, O =  convTuckerDecomp(W, ranks)\n",
    "    W_recon =  tl.tenalg.multi_mode_dot(core, [I[0,0,:,:], O[0,0,:,:].T], modes=[2,3], transpose=False)\n",
    "    errR1[i] = np.linalg.norm(W - W_recon)**2   # calc reconstruction error ||W-W'||^2"
   ]
  },
  {
   "cell_type": "code",
   "execution_count": 9,
   "metadata": {},
   "outputs": [
    {
     "name": "stdout",
     "output_type": "stream",
     "text": [
      "i: 0\n",
      "i: 1\n",
      "i: 2\n",
      "i: 3\n",
      "i: 4\n",
      "i: 5\n",
      "i: 6\n",
      "i: 7\n",
      "i: 8\n",
      "i: 9\n",
      "i: 10\n",
      "i: 11\n",
      "i: 12\n",
      "i: 13\n",
      "i: 14\n",
      "i: 15\n",
      "i: 16\n",
      "i: 17\n",
      "i: 18\n",
      "i: 19\n",
      "i: 20\n",
      "i: 21\n",
      "i: 22\n",
      "i: 23\n",
      "i: 24\n",
      "i: 25\n",
      "i: 26\n",
      "i: 27\n",
      "i: 28\n",
      "i: 29\n",
      "i: 30\n",
      "i: 31\n",
      "i: 32\n",
      "i: 33\n",
      "i: 34\n",
      "i: 35\n",
      "i: 36\n",
      "i: 37\n",
      "i: 38\n",
      "i: 39\n",
      "i: 40\n",
      "i: 41\n",
      "i: 42\n",
      "i: 43\n",
      "i: 44\n",
      "i: 45\n",
      "i: 46\n",
      "i: 47\n",
      "i: 48\n",
      "i: 49\n",
      "i: 50\n",
      "i: 51\n",
      "i: 52\n",
      "i: 53\n",
      "i: 54\n",
      "i: 55\n",
      "i: 56\n",
      "i: 57\n",
      "i: 58\n",
      "i: 59\n",
      "i: 60\n",
      "i: 61\n",
      "i: 62\n",
      "i: 63\n"
     ]
    }
   ],
   "source": [
    "errR2 = np.zeros(64)\n",
    "W = model.layers[3].get_weights()[0]   # 2nd conv layer\n",
    "R2_range = np.arange(1,65)\n",
    "for i,R2 in enumerate(R2_range):\n",
    "    print(\"i: \"+str(i))\n",
    "    ranks = [64, R2]\n",
    "    I, core, O =  convTuckerDecomp(W, ranks)\n",
    "    W_recon =  tl.tenalg.multi_mode_dot(core, [I[0,0,:,:], O[0,0,:,:].T], modes=[2,3], transpose=False)\n",
    "    errR2[i] = np.linalg.norm(W - W_recon)**2   # calc reconstruction error ||W-W'||^2"
   ]
  },
  {
   "cell_type": "code",
   "execution_count": 10,
   "metadata": {},
   "outputs": [
    {
     "data": {
      "image/png": "[encoded data removed]",
      "text/plain": [
       "<Figure size 1080x360 with 2 Axes>"
      ]
     },
     "metadata": {
      "needs_background": "light"
     },
     "output_type": "display_data"
    }
   ],
   "source": [
    "plt.figure(figsize=(15,5))\n",
    "plt.subplot(1,2,1)\n",
    "plt.plot(R1_range, errR1)\n",
    "plt.title('Reconstruction error vs R1')\n",
    "plt.ylabel('Error')\n",
    "plt.xlabel('R1')\n",
    "\n",
    "plt.subplot(1,2,2)\n",
    "plt.plot(R2_range, errR2)\n",
    "plt.title('Reconstruction error vs R2')\n",
    "plt.ylabel('Error')\n",
    "plt.xlabel('R2')\n",
    "\n",
    "plt.show()"
   ]
  },
  {
   "cell_type": "code",
   "execution_count": 11,
   "metadata": {},
   "outputs": [],
   "source": [
    "np.save('step2',[errR1,errR2])"
   ]
  },
  {
   "cell_type": "code",
   "execution_count": 12,
   "metadata": {},
   "outputs": [],
   "source": [
    "[errR1,errR2] = np.load('step2.npy')"
   ]
  },
  {
   "cell_type": "code",
   "execution_count": 13,
   "metadata": {},
   "outputs": [],
   "source": [
    "# https://jacobgil.github.io/deeplearning/tensor-decompositions-deep-learning\n",
    "def decomposeModel(model, x):\n",
    "    \"\"\" Decompose conv layers in model using Tucker Decomposition \"\"\"\n",
    "    \n",
    "    batch_norm_alpha = 0.9\n",
    "    batch_norm_eps = 1e-4\n",
    "\n",
    "    model2 = Sequential()\n",
    "\n",
    "    for idx,l in enumerate(model.layers):\n",
    "        config = l.get_config()                        # get layer info\n",
    "                \n",
    "        if type(l) == Conv2D:\n",
    "            if idx == 0:                                 # specify input_shape only for first layer\n",
    "                model2.add(Conv2D(filters=config['filters'], kernel_size=3, strides=(1, 1), padding='valid', input_shape=[32,32,3]))\n",
    "            else: \n",
    "                W,b = l.get_weights()  \n",
    "                ranks = [int(x*W.shape[2]), int(x*W.shape[3])]\n",
    "                I, core, O =  convTuckerDecomp(W, ranks)\n",
    "\n",
    "                # add pointwise conv layer for I\n",
    "                model2.add(Conv2D(filters=ranks[0], kernel_size=1, strides=1, padding='same'))\n",
    "                model2.layers[-1].set_weights([I, np.zeros(ranks[0])])\n",
    "                \n",
    "                # add regular conv layer for core\n",
    "                model2.add(Conv2D(filters=ranks[1], kernel_size=config['kernel_size'], strides=config['strides'], \n",
    "                                  padding='valid', activation=config['activation']))\n",
    "                model2.layers[-1].set_weights([core, np.zeros(ranks[1])])\n",
    "                \n",
    "                # add pointwise conv laeyr for O. pointwise conv\n",
    "                model2.add(Conv2D(filters=config['filters'], kernel_size=1, strides=1, padding='same'))\n",
    "                model2.layers[-1].set_weights([O, b])\n",
    "                \n",
    "                continue\n",
    "                \n",
    "        elif type(l) == Dense:\n",
    "            model2.add(Dense(config['units']))\n",
    "        elif type(l) == BatchNormalization:\n",
    "            model2.add(BatchNormalization(axis=-1, momentum=batch_norm_alpha, epsilon=batch_norm_eps))\n",
    "        elif type(l) == Activation:\n",
    "            model2.add(Activation(config['activation']))\n",
    "        elif type(l) == Flatten:\n",
    "            model2.add(Flatten())\n",
    "        elif type(l) == MaxPooling2D:\n",
    "            model2.add(MaxPooling2D(pool_size=(2,2),strides=(2,2)))\n",
    "\n",
    "        model2.layers[-1].set_weights(l.get_weights())  # keep same weights as model\n",
    "\n",
    "    return model2"
   ]
  },
  {
   "cell_type": "code",
   "execution_count": 14,
   "metadata": {
    "scrolled": true
   },
   "outputs": [
    {
     "name": "stdout",
     "output_type": "stream",
     "text": [
      "x = 0.125\n",
      "Epoch 1/10\n",
      "1563/1562 [==============================] - 100s 64ms/step - loss: 1.0611 - acc: 0.6367\n",
      "Epoch 2/10\n",
      "1563/1562 [==============================] - 97s 62ms/step - loss: 0.9354 - acc: 0.6771\n",
      "Epoch 3/10\n",
      "1563/1562 [==============================] - 97s 62ms/step - loss: 0.8878 - acc: 0.6955\n",
      "Epoch 4/10\n",
      "1563/1562 [==============================] - 97s 62ms/step - loss: 0.8499 - acc: 0.7080\n",
      "Epoch 5/10\n",
      "1563/1562 [==============================] - 98s 63ms/step - loss: 0.8152 - acc: 0.7187\n",
      "Epoch 6/10\n",
      "1563/1562 [==============================] - 98s 63ms/step - loss: 0.7962 - acc: 0.7262\n",
      "Epoch 7/10\n",
      "1563/1562 [==============================] - 98s 63ms/step - loss: 0.7758 - acc: 0.7343\n",
      "Epoch 8/10\n",
      "1563/1562 [==============================] - 99s 63ms/step - loss: 0.7507 - acc: 0.7425\n",
      "Epoch 9/10\n",
      "1563/1562 [==============================] - 99s 63ms/step - loss: 0.7416 - acc: 0.7436\n",
      "Epoch 10/10\n",
      "1563/1562 [==============================] - 99s 63ms/step - loss: 0.7228 - acc: 0.7505\n",
      "x = 0.25\n",
      "Epoch 1/10\n",
      "1563/1562 [==============================] - 108s 69ms/step - loss: 1.2162 - acc: 0.5777\n",
      "Epoch 2/10\n",
      "1563/1562 [==============================] - 105s 67ms/step - loss: 0.8783 - acc: 0.6979\n",
      "Epoch 3/10\n",
      "1563/1562 [==============================] - 105s 67ms/step - loss: 0.7946 - acc: 0.7279\n",
      "Epoch 4/10\n",
      "1563/1562 [==============================] - 106s 68ms/step - loss: 0.7528 - acc: 0.7425\n",
      "Epoch 5/10\n",
      "1563/1562 [==============================] - 106s 68ms/step - loss: 0.7112 - acc: 0.7582\n",
      "Epoch 6/10\n",
      "1563/1562 [==============================] - 106s 68ms/step - loss: 0.6895 - acc: 0.7639\n",
      "Epoch 7/10\n",
      "1563/1562 [==============================] - 106s 68ms/step - loss: 0.6557 - acc: 0.7767\n",
      "Epoch 8/10\n",
      "1563/1562 [==============================] - 106s 68ms/step - loss: 0.6386 - acc: 0.7804\n",
      "Epoch 9/10\n",
      "1563/1562 [==============================] - 106s 68ms/step - loss: 0.6168 - acc: 0.7898\n",
      "Epoch 10/10\n",
      "1563/1562 [==============================] - 107s 68ms/step - loss: 0.6094 - acc: 0.7919\n",
      "x = 0.375\n",
      "Epoch 1/10\n",
      "1563/1562 [==============================] - 119s 76ms/step - loss: 1.2202 - acc: 0.5747\n",
      "Epoch 2/10\n",
      "1563/1562 [==============================] - 114s 73ms/step - loss: 0.8675 - acc: 0.7020\n",
      "Epoch 3/10\n",
      "1563/1562 [==============================] - 115s 73ms/step - loss: 0.7834 - acc: 0.7320\n",
      "Epoch 4/10\n",
      "1563/1562 [==============================] - 115s 73ms/step - loss: 0.7272 - acc: 0.7523\n",
      "Epoch 5/10\n",
      "1563/1562 [==============================] - 115s 73ms/step - loss: 0.6924 - acc: 0.7654\n",
      "Epoch 6/10\n",
      "1563/1562 [==============================] - 115s 73ms/step - loss: 0.6630 - acc: 0.7745\n",
      "Epoch 7/10\n",
      "1563/1562 [==============================] - 115s 74ms/step - loss: 0.6328 - acc: 0.7824\n",
      "Epoch 8/10\n",
      "1563/1562 [==============================] - 115s 74ms/step - loss: 0.6150 - acc: 0.7886\n",
      "Epoch 9/10\n",
      "1563/1562 [==============================] - 115s 73ms/step - loss: 0.6048 - acc: 0.7915\n",
      "Epoch 10/10\n",
      "1563/1562 [==============================] - 114s 73ms/step - loss: 0.5774 - acc: 0.8015\n",
      "x = 0.5\n",
      "Epoch 1/10\n",
      "1563/1562 [==============================] - 130s 83ms/step - loss: 1.2929 - acc: 0.5431\n",
      "Epoch 2/10\n",
      "1563/1562 [==============================] - 124s 79ms/step - loss: 0.9037 - acc: 0.6889\n",
      "Epoch 3/10\n",
      "1563/1562 [==============================] - 124s 79ms/step - loss: 0.8103 - acc: 0.7197\n",
      "Epoch 4/10\n",
      "1563/1562 [==============================] - 124s 79ms/step - loss: 0.7655 - acc: 0.7388\n",
      "Epoch 5/10\n",
      "1563/1562 [==============================] - 124s 79ms/step - loss: 0.7079 - acc: 0.7573\n",
      "Epoch 6/10\n",
      "1563/1562 [==============================] - 124s 79ms/step - loss: 0.6746 - acc: 0.7701\n",
      "Epoch 7/10\n",
      "1563/1562 [==============================] - 124s 79ms/step - loss: 0.6459 - acc: 0.7781\n",
      "Epoch 8/10\n",
      "1563/1562 [==============================] - 124s 79ms/step - loss: 0.6887 - acc: 0.7650\n",
      "Epoch 9/10\n",
      "1563/1562 [==============================] - 124s 79ms/step - loss: 0.6351 - acc: 0.7851\n",
      "Epoch 10/10\n",
      "1563/1562 [==============================] - 123s 79ms/step - loss: 0.5823 - acc: 0.7994\n",
      "x = 0.625\n",
      "Epoch 1/10\n",
      "1563/1562 [==============================] - 151s 96ms/step - loss: 1.3550 - acc: 0.5177\n",
      "Epoch 2/10\n",
      "1563/1562 [==============================] - 141s 90ms/step - loss: 0.9717 - acc: 0.6626\n",
      "Epoch 3/10\n",
      "1563/1562 [==============================] - 136s 87ms/step - loss: 0.8446 - acc: 0.7085\n",
      "Epoch 4/10\n",
      "1563/1562 [==============================] - 140s 90ms/step - loss: 0.7840 - acc: 0.7300\n",
      "Epoch 5/10\n",
      "1563/1562 [==============================] - 132s 84ms/step - loss: 0.7352 - acc: 0.7488\n",
      "Epoch 6/10\n",
      "1563/1562 [==============================] - 132s 84ms/step - loss: 0.6983 - acc: 0.7636\n",
      "Epoch 7/10\n",
      "1563/1562 [==============================] - 132s 85ms/step - loss: 0.6759 - acc: 0.7703\n",
      "Epoch 8/10\n",
      "1563/1562 [==============================] - 132s 84ms/step - loss: 0.6401 - acc: 0.7827\n",
      "Epoch 9/10\n",
      "1563/1562 [==============================] - 134s 85ms/step - loss: 0.6260 - acc: 0.7853\n",
      "Epoch 10/10\n",
      "1563/1562 [==============================] - 134s 86ms/step - loss: 0.6069 - acc: 0.7925\n",
      "x = 0.75\n",
      "Epoch 1/10\n",
      "1563/1562 [==============================] - 163s 104ms/step - loss: 1.4116 - acc: 0.4979\n",
      "Epoch 2/10\n",
      "1563/1562 [==============================] - 153s 98ms/step - loss: 1.0192 - acc: 0.6421\n",
      "Epoch 3/10\n",
      "1563/1562 [==============================] - 156s 100ms/step - loss: 0.8880 - acc: 0.6929\n",
      "Epoch 4/10\n",
      "1563/1562 [==============================] - 155s 99ms/step - loss: 0.8097 - acc: 0.7228\n",
      "Epoch 5/10\n",
      "1563/1562 [==============================] - 155s 99ms/step - loss: 0.7551 - acc: 0.7401\n",
      "Epoch 6/10\n",
      "1563/1562 [==============================] - 154s 99ms/step - loss: 0.7150 - acc: 0.7560\n",
      "Epoch 7/10\n",
      "1563/1562 [==============================] - 146s 93ms/step - loss: 0.6781 - acc: 0.7698\n",
      "Epoch 8/10\n",
      "1563/1562 [==============================] - 145s 93ms/step - loss: 0.6537 - acc: 0.7760\n",
      "Epoch 9/10\n",
      "1563/1562 [==============================] - 145s 93ms/step - loss: 0.6292 - acc: 0.7837\n",
      "Epoch 10/10\n",
      "1563/1562 [==============================] - 147s 94ms/step - loss: 0.6023 - acc: 0.7939\n",
      "x = 0.875\n",
      "Epoch 1/10\n",
      "1563/1562 [==============================] - 169s 108ms/step - loss: 1.4387 - acc: 0.4851\n",
      "Epoch 2/10\n",
      "1563/1562 [==============================] - 163s 104ms/step - loss: 1.0504 - acc: 0.6319\n",
      "Epoch 3/10\n",
      "1563/1562 [==============================] - 160s 102ms/step - loss: 0.9321 - acc: 0.6757\n",
      "Epoch 4/10\n",
      "1563/1562 [==============================] - 159s 102ms/step - loss: 0.8480 - acc: 0.7095\n",
      "Epoch 5/10\n",
      "1563/1562 [==============================] - 159s 102ms/step - loss: 0.7881 - acc: 0.7290\n",
      "Epoch 6/10\n",
      "1563/1562 [==============================] - 160s 103ms/step - loss: 0.7486 - acc: 0.7452\n",
      "Epoch 7/10\n",
      "1563/1562 [==============================] - 161s 103ms/step - loss: 0.7062 - acc: 0.7590\n",
      "Epoch 8/10\n",
      "1563/1562 [==============================] - 159s 102ms/step - loss: 0.6821 - acc: 0.7663\n",
      "Epoch 9/10\n",
      "1563/1562 [==============================] - 159s 101ms/step - loss: 0.6556 - acc: 0.7751\n",
      "Epoch 10/10\n",
      "1563/1562 [==============================] - 159s 102ms/step - loss: 0.6272 - acc: 0.7838\n",
      "x = 1.0\n",
      "Epoch 1/10\n",
      "1563/1562 [==============================] - 186s 119ms/step - loss: 1.5197 - acc: 0.4520\n",
      "Epoch 2/10\n",
      "1563/1562 [==============================] - 174s 111ms/step - loss: 1.0943 - acc: 0.6169\n",
      "Epoch 3/10\n",
      "1563/1562 [==============================] - 176s 113ms/step - loss: 1.0002 - acc: 0.6523\n",
      "Epoch 4/10\n",
      "1563/1562 [==============================] - 180s 115ms/step - loss: 0.8912 - acc: 0.6908\n",
      "Epoch 5/10\n",
      "1563/1562 [==============================] - 179s 115ms/step - loss: 0.8347 - acc: 0.7140\n",
      "Epoch 6/10\n",
      "1563/1562 [==============================] - 175s 112ms/step - loss: 0.7856 - acc: 0.7309\n",
      "Epoch 7/10\n",
      "1563/1562 [==============================] - 175s 112ms/step - loss: 0.7477 - acc: 0.7449\n",
      "Epoch 8/10\n",
      "1563/1562 [==============================] - 177s 113ms/step - loss: 0.7011 - acc: 0.7587\n",
      "Epoch 9/10\n",
      "1563/1562 [==============================] - 174s 111ms/step - loss: 0.6814 - acc: 0.7657\n",
      "Epoch 10/10\n",
      "1563/1562 [==============================] - 176s 112ms/step - loss: 0.6544 - acc: 0.7757\n"
     ]
    }
   ],
   "source": [
    "xRange = np.arange(1,9)/8.0\n",
    "accNoTrain = np.zeros(len(xRange))\n",
    "accTrain = np.zeros(len(xRange))\n",
    "complexity = np.zeros(len(xRange))\n",
    "for i,x in enumerate(xRange):\n",
    "    print('x = {}'.format(x))\n",
    "    model_decomp = decomposeModel(model, x)\n",
    "    complexity[i] = model_decomp.count_params()\n",
    "    model_decomp.compile(loss='sparse_categorical_crossentropy',optimizer=opt,metrics=['accuracy'])\n",
    "    accNoTrain[i] = model_decomp.evaluate(X_test,y_test,verbose=0)[1]  # evaluate on test set w/o training\n",
    "    model_decomp.fit_generator(datagen.flow(X_train, y_train, batch_size=batch_size), \n",
    "                               steps_per_epoch = X_train.shape[0]/batch_size, \n",
    "                               epochs = 10)\n",
    "    accTrain[i] = model_decomp.evaluate(X_test,y_test,verbose=0)[1]   # eval on test set after training, saving accuracyxRange = np.arange(1,9)/8.0\n",
    "\n",
    "accNoTrain = np.zeros(len(xRange))\n",
    "\n",
    "accTrain = np.zeros(len(xRange))\n",
    "\n",
    "complexity = np.zeros(len(xRange))\n",
    "\n",
    "for i,x in enumerate(xRange):\n",
    "\n",
    "    print('x = {}'.format(x))\n",
    "\n",
    "    mo"
   ]
  },
  {
   "cell_type": "code",
   "execution_count": 15,
   "metadata": {},
   "outputs": [
    {
     "data": {
      "image/png": "[encoded data removed]",
      "text/plain": [
       "<Figure size 432x288 with 1 Axes>"
      ]
     },
     "metadata": {
      "needs_background": "light"
     },
     "output_type": "display_data"
    }
   ],
   "source": [
    "plt.plot(xRange, complexity)\n",
    "plt.title('Computational Complexity vs x')\n",
    "plt.ylabel('Complexity')\n",
    "plt.xlabel('x')\n",
    "plt.show()"
   ]
  },
  {
   "cell_type": "code",
   "execution_count": 16,
   "metadata": {},
   "outputs": [],
   "source": [
    "np.save('step3-4',[accNoTrain, accTrain])"
   ]
  },
  {
   "cell_type": "code",
   "execution_count": 17,
   "metadata": {},
   "outputs": [
    {
     "data": {
      "image/png": "[encoded data removed]",
      "text/plain": [
       "<Figure size 1080x360 with 2 Axes>"
      ]
     },
     "metadata": {
      "needs_background": "light"
     },
     "output_type": "display_data"
    },
    {
     "name": "stdout",
     "output_type": "stream",
     "text": [
      "[0.278  0.3445 0.4518 0.2883 0.2179 0.2432 0.2646 0.2355] [0.7779 0.8235 0.8154 0.8256 0.8082 0.8134 0.7738 0.7904]\n"
     ]
    }
   ],
   "source": [
    "plt.figure(figsize=(15,5))\n",
    "plt.subplot(1,2,1)\n",
    "plt.plot(xRange, accNoTrain)\n",
    "plt.title('Test accuracy vs x (Untrained)')\n",
    "plt.ylabel('Accuracy')\n",
    "plt.xlabel('x')\n",
    "\n",
    "plt.subplot(1,2,2)\n",
    "plt.plot(xRange, accTrain)\n",
    "plt.title('Test accuracy vs x (Trained)')\n",
    "plt.ylabel('Accuracy')\n",
    "plt.xlabel('x')\n",
    "\n",
    "plt.show()\n",
    "\n",
    "print(accNoTrain, accTrain)"
   ]
  },
  {
   "cell_type": "code",
   "execution_count": 19,
   "metadata": {},
   "outputs": [
    {
     "data": {
      "image/png": "[encoded data removed]",
      "text/plain": [
       "<Figure size 576x360 with 1 Axes>"
      ]
     },
     "metadata": {
      "needs_background": "light"
     },
     "output_type": "display_data"
    },
    {
     "data": {
      "text/plain": [
       "array([0.125, 0.25 , 0.375, 0.5  , 0.625, 0.75 , 0.875, 1.   ])"
      ]
     },
     "execution_count": 19,
     "metadata": {},
     "output_type": "execute_result"
    }
   ],
   "source": [
    "plt.figure(figsize=(8,5))\n",
    "# plt.subplot(1,2,1)\n",
    "plt.plot(xRange, accNoTrain)\n",
    "plt.title('Test accuracy vs x')\n",
    "plt.ylabel('Accuracy')\n",
    "plt.xlabel('x')\n",
    "\n",
    "# plt.subplot(1,2,2)\n",
    "plt.plot(xRange, accTrain)\n",
    "# plt.title('Test accuracy vs x (Trained)')\n",
    "plt.ylabel('Accuracy')\n",
    "plt.xlabel('x')\n",
    "plt.legend(['Untrained','Trained'])\n",
    "\n",
    "plt.show()\n",
    "xRange\n",
    "# print(accNoTrain, accTrain)"
   ]
  },
  {
   "cell_type": "code",
   "execution_count": 23,
   "metadata": {},
   "outputs": [],
   "source": [
    "def getRanks(layer):\n",
    "    \"\"\" Use VBMF to get R1 and R2 ranks \"\"\"\n",
    "    W,b = layer.get_weights()\n",
    "    unfold_0 = tl.base.unfold(W, 2) \n",
    "    unfold_1 = tl.base.unfold(W, 3)\n",
    "#     _, S_0, _, _ = VBMF.EVBMF(unfold_0)   # use to estimate cacb\n",
    "#     _, S_1, _, _ = VBMF.EVBMF(unfold_1)\n",
    "    _, S_0, _, _ = VBMF.VBMF(unfold_0, cacb=1)\n",
    "    _, S_1, _, _ = VBMF.VBMF(unfold_1, cacb=1)\n",
    "    ranks = [S_0.shape[0], S_1.shape[0]]\n",
    "    print(\"Ranks: \",ranks)\n",
    "    return ranks\n",
    "\n",
    "def decomposeModelVBMF(model):\n",
    "    \"\"\" Decompose conv layers in model using Tucker Decomposition \"\"\"\n",
    "    \n",
    "    batch_norm_alpha = 0.9\n",
    "    batch_norm_eps = 1e-4\n",
    "\n",
    "    model2 = Sequential()\n",
    "\n",
    "    for idx,l in enumerate(model.layers):\n",
    "        config = l.get_config()                        # get layer info\n",
    "                \n",
    "        if type(l) == Conv2D:\n",
    "            if idx == 0:                                 # specify input_shape only for first layer\n",
    "                model2.add(Conv2D(filters=config['filters'], kernel_size=3, strides=(1, 1), padding='valid', input_shape=[32,32,3]))\n",
    "            else: \n",
    "                W,b = l.get_weights()\n",
    "                ranks = getRanks(l)\n",
    "                I, core, O =  convTuckerDecomp(W, ranks)\n",
    "\n",
    "                # add pointwise conv layer for I\n",
    "                model2.add(Conv2D(filters=ranks[0], kernel_size=1, strides=1, padding='same'))\n",
    "                model2.layers[-1].set_weights([I, np.zeros(ranks[0])])\n",
    "                \n",
    "                # add regular conv layer for core\n",
    "                model2.add(Conv2D(filters=ranks[1], kernel_size=config['kernel_size'], strides=config['strides'], \n",
    "                                  padding='valid', activation=config['activation']))\n",
    "                model2.layers[-1].set_weights([core, np.zeros(ranks[1])])\n",
    "                \n",
    "                # add pointwise conv laeyr for O. pointwise conv\n",
    "                model2.add(Conv2D(filters=config['filters'], kernel_size=1, strides=1, padding='same'))\n",
    "                model2.layers[-1].set_weights([O, b])\n",
    "                \n",
    "                continue\n",
    "                \n",
    "        elif type(l) == Dense:\n",
    "            model2.add(Dense(config['units']))\n",
    "        elif type(l) == BatchNormalization:\n",
    "            model2.add(BatchNormalization(axis=-1, momentum=batch_norm_alpha, epsilon=batch_norm_eps))\n",
    "        elif type(l) == Activation:\n",
    "            model2.add(Activation(config['activation']))\n",
    "        elif type(l) == Flatten:\n",
    "            model2.add(Flatten())\n",
    "        elif type(l) == MaxPooling2D:\n",
    "            model2.add(MaxPooling2D(pool_size=(2,2),strides=(2,2)))\n",
    "\n",
    "        model2.layers[-1].set_weights(l.get_weights())  # keep same weights as model\n",
    "\n",
    "    return model2"
   ]
  },
  {
   "cell_type": "code",
   "execution_count": 24,
   "metadata": {
    "scrolled": false
   },
   "outputs": [
    {
     "name": "stdout",
     "output_type": "stream",
     "text": [
      "Estimated sigma2:  0.0020673603132620104\n",
      "Estimated sigma2:  0.002281505959892024\n",
      "Ranks:  [36, 38]\n",
      "Estimated sigma2:  0.0015632850198797823\n",
      "Estimated sigma2:  0.0023536990950569804\n",
      "Ranks:  [46, 61]\n",
      "Estimated sigma2:  0.0018841794538664318\n",
      "Estimated sigma2:  0.002097500235633861\n",
      "Ranks:  [79, 79]\n",
      "Estimated sigma2:  0.0012510827909106314\n",
      "Estimated sigma2:  0.001702244568094647\n",
      "Ranks:  [92, 123]\n",
      "Estimated sigma2:  0.0009934217198356659\n",
      "Estimated sigma2:  0.0009014916823897865\n",
      "Ranks:  [160, 153]\n",
      "Epoch 1/10\n",
      "1563/1562 [==============================] - 158s 101ms/step - loss: 1.2590 - acc: 0.5567 - val_loss: 0.8581 - val_acc: 0.7028\n",
      "Epoch 2/10\n",
      "1563/1562 [==============================] - 141s 90ms/step - loss: 0.8970 - acc: 0.6930 - val_loss: 0.7515 - val_acc: 0.7444\n",
      "Epoch 3/10\n",
      "1563/1562 [==============================] - 142s 91ms/step - loss: 0.8043 - acc: 0.7257 - val_loss: 0.6663 - val_acc: 0.7687\n",
      "Epoch 4/10\n",
      "1563/1562 [==============================] - 142s 91ms/step - loss: 0.7293 - acc: 0.7499 - val_loss: 0.6191 - val_acc: 0.7940\n",
      "Epoch 5/10\n",
      "1563/1562 [==============================] - 144s 92ms/step - loss: 0.6879 - acc: 0.7657 - val_loss: 0.5551 - val_acc: 0.8114\n",
      "Epoch 6/10\n",
      "1563/1562 [==============================] - 152s 97ms/step - loss: 0.6640 - acc: 0.7741 - val_loss: 0.5679 - val_acc: 0.8047\n",
      "Epoch 7/10\n",
      "1563/1562 [==============================] - 149s 95ms/step - loss: 0.6282 - acc: 0.7873 - val_loss: 0.5365 - val_acc: 0.8163\n",
      "Epoch 8/10\n",
      "1563/1562 [==============================] - 152s 97ms/step - loss: 0.6089 - acc: 0.7937 - val_loss: 0.5230 - val_acc: 0.8196\n",
      "Epoch 9/10\n",
      "1563/1562 [==============================] - 152s 97ms/step - loss: 0.5878 - acc: 0.7997 - val_loss: 0.5356 - val_acc: 0.8165\n",
      "Epoch 10/10\n",
      "1563/1562 [==============================] - 153s 98ms/step - loss: 0.5745 - acc: 0.8051 - val_loss: 0.6127 - val_acc: 0.8078\n"
     ]
    }
   ],
   "source": [
    "model_decomp_VBMF = decomposeModelVBMF(model)\n",
    "model_decomp_VBMF.compile(loss='sparse_categorical_crossentropy',optimizer=opt,metrics=['accuracy'])\n",
    "hist = model_decomp_VBMF.fit_generator(datagen.flow(X_train, y_train, batch_size=batch_size), \n",
    "                                       steps_per_epoch = X_train.shape[0]/batch_size, \n",
    "                                       validation_data = (X_test, y_test),\n",
    "                                       validation_steps = X_test.shape[0]/batch_size,\n",
    "                                       epochs = 10)"
   ]
  },
  {
   "cell_type": "code",
   "execution_count": 25,
   "metadata": {},
   "outputs": [
    {
     "data": {
      "image/png": "[encoded data removed]",
      "text/plain": [
       "<Figure size 432x288 with 1 Axes>"
      ]
     },
     "metadata": {
      "needs_background": "light"
     },
     "output_type": "display_data"
    }
   ],
   "source": [
    "plt.plot(hist.history['val_acc'])\n",
    "plt.title('Test Accuracy vs Epochs (VBMF)')\n",
    "plt.ylabel('Accuracy')\n",
    "plt.xlabel('Epoch')\n",
    "plt.show()"
   ]
  },
  {
   "cell_type": "code",
   "execution_count": null,
   "metadata": {},
   "outputs": [],
   "source": []
  }
 ],
 "metadata": {
  "kernelspec": {
   "display_name": "Python 3",
   "language": "python",
   "name": "python3"
  },
  "language_info": {
   "codemirror_mode": {
    "name": "ipython",
    "version": 3
   },
   "file_extension": ".py",
   "mimetype": "text/x-python",
   "name": "python",
   "nbconvert_exporter": "python",
   "pygments_lexer": "ipython3",
   "version": "3.6.8"
  }
 },
 "nbformat": 4,
 "nbformat_minor": 2
}
